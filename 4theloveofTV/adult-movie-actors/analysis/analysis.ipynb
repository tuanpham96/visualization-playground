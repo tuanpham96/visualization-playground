{
 "cells": [
  {
   "cell_type": "code",
   "execution_count": 210,
   "id": "5e85c75e-7b9b-49a7-b43f-eeb2865f0b58",
   "metadata": {},
   "outputs": [],
   "source": [
    "import os \n",
    "import pickle\n",
    "import glob\n",
    "import re\n",
    "import numpy as np \n",
    "import pandas as pd\n",
    "import matplotlib.pyplot as plt\n",
    "\n",
    "from tqdm.notebook import tqdm"
   ]
  },
  {
   "cell_type": "code",
   "execution_count": 202,
   "id": "bdd6e71b-a7d7-4212-b195-e0339565177f",
   "metadata": {},
   "outputs": [],
   "source": [
    "import hashlib\n",
    "hasher = hashlib.sha256"
   ]
  },
  {
   "cell_type": "code",
   "execution_count": 4,
   "id": "8bce78e6-96ce-43c3-9078-fe8ab6861c25",
   "metadata": {},
   "outputs": [],
   "source": [
    "data_path = 'data' \n",
    "actor_files = sorted(glob.glob(data_path + '/actor*.pkl'))"
   ]
  },
  {
   "cell_type": "code",
   "execution_count": 254,
   "id": "eff5ab27-ae09-474c-8fd0-e3fac01e2f6c",
   "metadata": {},
   "outputs": [],
   "source": [
    "with open(actor_files[2], 'rb') as f: \n",
    "    actor_data = pickle.load(f)"
   ]
  },
  {
   "cell_type": "code",
   "execution_count": 93,
   "id": "0ee329c2-9367-42a3-9779-245c08ec6584",
   "metadata": {},
   "outputs": [],
   "source": [
    "unit_conversion = dict(\n",
    "    cm_per_ft = 30.48,\n",
    "    cm_per_in = 2.54,\n",
    "    kg_per_lb = 0.45359237\n",
    ")\n",
    "\n",
    "def _process_data_unit(s, unit):\n",
    "    s = re.findall('\\d*\\s*' + unit, s)\n",
    "    if len(s) == 0:\n",
    "        return 0\n",
    "    elif len(s) == 1:\n",
    "        return float(s[0].replace(unit, '').strip())\n",
    "    else:\n",
    "        raise ValueError('Cannot process \"%s\" with unit=\"%s\"' %(s, unit))\n",
    "        \n",
    "def process_height_cm(s):\n",
    "    if 'cm' in s:\n",
    "        h_cm = _process_data_unit(s, 'cm')\n",
    "    elif 'feet' in s or 'ft' in s: \n",
    "        h_ft = _process_data_unit(s, 'feet')\n",
    "        h_in = _process_data_unit(s, 'inches')\n",
    "        h_cm = h_ft * unit_conversion['cm_per_ft'] + h_in * unit_conversion['cm_per_in']\n",
    "    else:\n",
    "        return 0\n",
    "    return h_cm \n",
    "\n",
    "def process_weight_kg(s):\n",
    "    if 'kg' in s: \n",
    "        w_kg = _process_data_unit(s, 'kg')\n",
    "    elif 'lbs' in s: \n",
    "        w_lbs = _process_data_unit(s, 'lbs')\n",
    "        w_kg = w_lbs * unit_conversion['kg_per_lb']\n",
    "    else:\n",
    "        return 0 \n",
    "    return w_kg \n"
   ]
  },
  {
   "cell_type": "code",
   "execution_count": 277,
   "id": "041f7594-127f-447d-a587-34407ada7cc0",
   "metadata": {},
   "outputs": [],
   "source": [
    "def _is_award_data(k,v):\n",
    "    award_possibles = ['award', 'nominee', 'nominate', 'winner'] \n",
    "    s = ';'.join([k] + v).lower()\n",
    "    return any([x in s for x in award_possibles])\n",
    "\n",
    "def hash_actor_id(actor):\n",
    "    source = actor['SOURCE'].replace('https://www.iafd.com', '')\n",
    "    return hasher(source.encode()).hexdigest()\n",
    "    \n",
    "def process_actor_awards(actor_info):\n",
    "    num_awards = [len(v) for k, v in actor_info.items() \n",
    "                  if _is_award_data(k, v)]\n",
    "    if len(num_awards) == 0:\n",
    "        return 0\n",
    "    return sum(num_awards)\n",
    "\n",
    "def process_actor_info(actor):\n",
    "    selected_keys = ['Astrology', 'Ethnicity', 'Nationality', \n",
    "                     'Hair Color', 'Height', 'Weight', \n",
    "                     'Tattoos', 'Piercings']   \n",
    "    actor_info = actor['INFO']\n",
    "    \n",
    "    # ID from source\n",
    "    info = dict(ID = hash_actor_id(actor))\n",
    "    \n",
    "    # get specific keys\n",
    "    info.update({k.lower().replace(' ', '_'): ','.join(actor_info.get(k, ['None']))\n",
    "                 for k in selected_keys})    \n",
    "    \n",
    "    # turn these into boolean\n",
    "    info['has_tattoos'] = info['tattoos'].lower() != 'None' \n",
    "    info['has_piercings'] = info['piercings'].lower() != 'None' \n",
    "    del info['tattoos'], info['piercings']\n",
    "    \n",
    "    # appearance to floats\n",
    "    info['height_cm'] = process_height_cm(info['height'])\n",
    "    info['weight_kg'] = process_weight_kg(info['weight'])\n",
    "    del info['height'], info['weight']\n",
    "    \n",
    "    # number of awards\n",
    "    info['num_awards'] = process_actor_awards(actor_info)\n",
    "    \n",
    "    return info\n",
    "    \n",
    "\n",
    "def process_actor_years(actor):\n",
    "    actor_id = hash_actor_id(actor)\n",
    "    actor_years = actor['MOVIES'].Year\n",
    "    actor_years = actor_years[actor_years != '']\n",
    "    actor_years = actor_years.astype('float')\n",
    "    \n",
    "    actor_years, year_counts = np.unique(actor_years, return_counts=True)\n",
    "    return pd.DataFrame({'ID': actor_id, 'year': actor_years, 'count': year_counts})\n"
   ]
  },
  {
   "cell_type": "code",
   "execution_count": null,
   "id": "b70fa65d-c060-4278-ba50-a3e425a60173",
   "metadata": {},
   "outputs": [],
   "source": [
    "actor_results = dict(info = [], years = [])\n",
    "\n",
    "for file in tqdm(actor_files):\n",
    "    with open(file, 'rb') as f: \n",
    "        actor_data = pickle.load(f)\n",
    "    actor_results['info'].append(pd.DataFrame(map(process_actor_info, actor_data)))\n",
    "    actor_results['years'].append(pd.concat(map(process_actor_years, actor_data)))\n",
    "\n",
    "actor_results = {k: pd.concat(v) for k, v in actor_results.items()}\n"
   ]
  },
  {
   "cell_type": "code",
   "execution_count": 358,
   "id": "0d3b172e-9aa1-4735-808e-7a41c46b61cc",
   "metadata": {},
   "outputs": [],
   "source": [
    "df = actor_results['years'].sort_values(by='year')\n",
    "grouper = df.groupby('ID')\n",
    "min_years = grouper['year'].transform('min')\n",
    "sum_counts = grouper['count'].transform('sum')\n",
    "df_norm = df.assign(\n",
    "    year = df['year'] - min_years,\n",
    "    count = df['count'] / sum_counts\n",
    ")\n",
    "\n",
    "num_actors = grouper.ngroups"
   ]
  },
  {
   "cell_type": "code",
   "execution_count": 363,
   "id": "0f7eee0b-1905-40e1-838d-48accd997dab",
   "metadata": {},
   "outputs": [
    {
     "data": {
      "text/plain": [
       "<AxesSubplot:xlabel='year'>"
      ]
     },
     "execution_count": 363,
     "metadata": {},
     "output_type": "execute_result"
    },
    {
     "data": {
      "image/png": "[encoded data removed]",
      "text/plain": [
       "<Figure size 432x288 with 1 Axes>"
      ]
     },
     "metadata": {
      "needs_background": "light"
     },
     "output_type": "display_data"
    }
   ],
   "source": [
    "df_plt = df_norm.groupby('year').sum() / num_actors\n",
    "df_plt.plot(logy=True)"
   ]
  }
 ],
 "metadata": {
  "kernelspec": {
   "display_name": "Python 3 (ipykernel)",
   "language": "python",
   "name": "python3"
  },
  "language_info": {
   "codemirror_mode": {
    "name": "ipython",
    "version": 3
   },
   "file_extension": ".py",
   "mimetype": "text/x-python",
   "name": "python",
   "nbconvert_exporter": "python",
   "pygments_lexer": "ipython3",
   "version": "3.10.4"
  }
 },
 "nbformat": 4,
 "nbformat_minor": 5
}
